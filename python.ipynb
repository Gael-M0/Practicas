{
 "cells": [
  {
   "cell_type": "markdown",
   "metadata": {},
   "source": [
    "# Archivo de Jupyter para practicca de logica\n",
    "\n",
    "Este archivo forma parte de una serie de **prácticas de lógica de programación en Python** diseñadas para fortalecer habilidades en el desarrollo de código estructurado y eficiente. \n"
   ]
  },
  {
   "cell_type": "code",
   "execution_count": 2,
   "metadata": {},
   "outputs": [
    {
     "name": "stdout",
     "output_type": "stream",
     "text": [
      "Vocales detalladas:\n",
      "a: 2\n",
      "e: 2\n",
      "i: 0\n",
      "o: 1\n",
      "u: 1\n"
     ]
    }
   ],
   "source": [
    "# 20/01/2025\n",
    "'''\n",
    "\n",
    "Proyecto: Contador de vocales en una frase\n",
    "Instrucciones:\n",
    "Solicita al usuario que ingrese una frase.\n",
    "Cuenta cuántas vocales (a, e, i, o, u) hay en total en la frase.\n",
    "Devuelve el total de vocales en la frase al usuario.\n",
    "Extra (opcional):\n",
    "Indica cuántas veces aparece cada vocal (a, e, i, o, u) por separado.\n",
    "Ignora mayúsculas o minúsculas (haz que sea insensible a las mayúsculas).\n",
    "\n",
    "'''\n",
    "user = input(\"Ingrese una frase: \").lower() # Entrada del usuario para ingresar una frase, uso de lower para volverla en minuscula\n",
    "# Vocales de la palabra para contar dentro del bucle\n",
    "a = 0\n",
    "e = 0\n",
    "o = 0\n",
    "u = 0\n",
    "i = 0\n",
    "\n",
    "for letra in user: # Bucle for para contar cada letra dentro de user\n",
    "    if letra == 'a':\n",
    "        a += 1\n",
    "    elif letra == 'e':\n",
    "        e += 1\n",
    "    elif letra == 'o':\n",
    "        o += 1\n",
    "    elif letra == 'u':\n",
    "        u += 1\n",
    "    elif letra == 'i':\n",
    "        i += 1\n",
    "\n",
    "# Salida al usuario con el total de vocales\n",
    "print(f\"Vocales detalladas:\")\n",
    "print(f\"a: {a}\")\n",
    "print(f\"e: {e}\")\n",
    "print(f\"i: {i}\")\n",
    "print(f\"o: {o}\")\n",
    "print(f\"u: {u}\")"
   ]
  },
  {
   "cell_type": "code",
   "execution_count": 6,
   "metadata": {},
   "outputs": [
    {
     "name": "stdout",
     "output_type": "stream",
     "text": [
      "¡Adivina el número entre 1 y 100!\n",
      "El número es mayor a 80\n",
      "El número es mayor a 60\n",
      "El número es menor a 90\n",
      "El número es menor a 89\n",
      "El número es menor a 88\n",
      "El número es mayor a 85\n",
      "Le adivinaste = 86\n"
     ]
    }
   ],
   "source": [
    "import random #importacion de random para generar valores aleatorios\n",
    "\n",
    "adivinar = random.randint(1, 100) #generacion de valores aleatorios entre 1 a 100\n",
    "\n",
    "print(\"¡Adivina el número entre 1 y 100!\") #Titulo \n",
    "\n",
    "numbre = None #valor usado como entrada para el usuario\n",
    "\n",
    "while numbre != adivinar: #Bucle while numbre para cuando el numero es diferente proporcionar numerosos intentos\n",
    "    numbre = int(input(\"Ingresa tu número: \"))\n",
    "    \n",
    "    if numbre < adivinar: #Salida cuando el numero es mayor que el valor adivinar\n",
    "        print(f\"El número es mayor a {numbre}\")\n",
    "    elif numbre > adivinar: #Salida cuando el numero es menor que el valor adivinar\n",
    "        print(f\"El número es menor a {numbre}\")\n",
    "\n",
    "print(f\"Le adivinaste = {numbre}\") #salida cuando numbre es igual a adivinar"
   ]
  },
  {
   "cell_type": "code",
   "execution_count": 1,
   "metadata": {},
   "outputs": [
    {
     "name": "stdout",
     "output_type": "stream",
     "text": [
      "Identificador de palabras palindromas\n",
      "'oso' es un palíndromo.\n"
     ]
    }
   ],
   "source": [
    "# 22/01/2025\n",
    "'''\n",
    "Escribe un programa en Python que permita \n",
    "al usuario ingresar una palabra y determine \n",
    "si es un palíndromo.\n",
    "'''\n",
    "print(\"Identificador de palabras palindromas\") # Titulo\n",
    "palabra = input(\"Ingrese una palabra:\").lower() # implementar una salida para el usuario para que este ingrese una palabra\n",
    "# Creacion de un if para identificar si una palabra es igual a su inverso\n",
    "if palabra == palabra[::-1]: # Tecnica para invertir la palabra\n",
    "    print(f\"'{palabra}' es un palíndromo.\")\n",
    "else:\n",
    "    print(f\"'{palabra}' no es un palíndromo.\")"
   ]
  },
  {
   "cell_type": "code",
   "execution_count": 17,
   "metadata": {},
   "outputs": [
    {
     "name": "stdout",
     "output_type": "stream",
     "text": [
      "Calculadora básica en Python\n",
      "El resultado es: 20\n"
     ]
    }
   ],
   "source": [
    "# 23/01/2025\n",
    "'''\n",
    "Crea un programa En python \n",
    "el programa debe pedir al programa debera pedirle al usuario los 2 valores que quiere usar\n",
    "El programa debe leer dos números y un operador (+, -, *, /).\n",
    "'''\n",
    "# Calculadora básica\n",
    "print(\"Calculadora básica en Python\")\n",
    "\n",
    "# Pedir los números y el operador al usuario\n",
    "try:\n",
    "    firstnumber = int(input('Ingrese un número: '))\n",
    "    secondnumber = int(input('Ingrese un segundo número: '))\n",
    "    operador = input('Ingrese el tipo de operación que quiere realizar (+, -, *, /): ')\n",
    "\n",
    "    # Realizar la operación según el operador ingresado\n",
    "    if operador == '+':\n",
    "        print(f\"El resultado es: {firstnumber + secondnumber}\")\n",
    "    elif operador == '-':\n",
    "        print(f\"El resultado es: {firstnumber - secondnumber}\")\n",
    "    elif operador == '*':\n",
    "        print(f\"El resultado es: {firstnumber * secondnumber}\")\n",
    "    elif operador == '/':\n",
    "        # Validar división por cero\n",
    "        if secondnumber != 0:\n",
    "            print(f\"El resultado es: {firstnumber / secondnumber}\")\n",
    "        else:\n",
    "            print(\"Error: No se puede dividir entre cero.\")\n",
    "    else:\n",
    "        print(\"Operador no válido. Usa +, -, *, o /.\")\n",
    "except ValueError:\n",
    "    print(\"Por favor, ingresa números válidos.\")"
   ]
  },
  {
   "cell_type": "code",
   "execution_count": 1,
   "metadata": {},
   "outputs": [
    {
     "name": "stdout",
     "output_type": "stream",
     "text": [
      "i: 0\n",
      "i: 1\n",
      "i: 2\n",
      "i: 3\n",
      "i: 4\n",
      "i: 5\n",
      "i: 6\n",
      "i: 7\n",
      "i: 8\n",
      "i: 9\n"
     ]
    }
   ],
   "source": [
    "\n",
    "i = 0\n",
    "\n",
    "for i in range(10):\n",
    "    print(f\"i: {i}\")\n",
    "    i = i + 1"
   ]
  },
  {
   "cell_type": "code",
   "execution_count": 15,
   "metadata": {},
   "outputs": [
    {
     "name": "stdout",
     "output_type": "stream",
     "text": [
      "frsnumber: 10\n",
      "frsnumber: 11\n",
      "frsnumber: 12\n",
      "frsnumber: 13\n",
      "frsnumber: 14\n",
      "frsnumber: 15\n",
      "frsnumber: 16\n",
      "frsnumber: 17\n",
      "frsnumber: 18\n",
      "frsnumber: 19\n",
      "frsnumber: 20\n"
     ]
    }
   ],
   "source": [
    "frsnumber = int(input(\"Define el número inicial: \"))\n",
    "finalnumbre = int(input(\"Define el número final: \"))\n",
    "\n",
    "# Iterar desde frsnumber hasta finalnumbre (inclusive)\n",
    "for num in range(frsnumber, finalnumbre + 1):\n",
    "    print(f\"frsnumber: {num}\")"
   ]
  }
 ],
 "metadata": {
  "kernelspec": {
   "display_name": "Python 3",
   "language": "python",
   "name": "python3"
  },
  "language_info": {
   "codemirror_mode": {
    "name": "ipython",
    "version": 3
   },
   "file_extension": ".py",
   "mimetype": "text/x-python",
   "name": "python",
   "nbconvert_exporter": "python",
   "pygments_lexer": "ipython3",
   "version": "3.13.1"
  }
 },
 "nbformat": 4,
 "nbformat_minor": 2
}
